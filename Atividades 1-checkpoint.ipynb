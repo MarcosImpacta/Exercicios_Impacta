{
 "cells": [
  {
   "cell_type": "code",
   "execution_count": 10,
   "metadata": {},
   "outputs": [
    {
     "name": "stdout",
     "output_type": "stream",
     "text": [
      "[list([2, 3, 5, 4, 8]) list([8, 5, 4, 7, 8, 9, 1])]\n",
      "[list([4, 6, 10, 8, 16]) list([4, 2.5, 2, 3.5, 4, 4.5, 0.5])]\n",
      "[list([2, 3, 5, 4, 8]) list([8, 5, 4, 7, 8, 9, 1])]\n",
      "[list([4, 6, 10, 8, 16]) list([4, 2.5, 2, 3.5, 4, 4.5, 0.5])]\n",
      "[list([2, 3, 5, 4, 8, 4, 6, 10, 8, 16])\n",
      " list([8, 5, 4, 7, 8, 9, 1, 4, 2.5, 2, 3.5, 4, 4.5, 0.5])]\n",
      "[list([2, 3, 5, 4, 8]) list([8, 5, 4, 7, 8, 9, 1])]\n",
      "[list([4, 6, 10, 8, 16]) list([4, 2.5, 2, 3.5, 4, 4.5, 0.5])]\n",
      "[list([2, 3, 5, 4, 8, 4, 6, 10, 8, 16])\n",
      " list([8, 5, 4, 7, 8, 9, 1, 4, 2.5, 2, 3.5, 4, 4.5, 0.5])]\n"
     ]
    },
    {
     "ename": "AxisError",
     "evalue": "axis 1 is out of bounds for array of dimension 1",
     "output_type": "error",
     "traceback": [
      "\u001b[1;31m---------------------------------------------------------------------------\u001b[0m",
      "\u001b[1;31mAxisError\u001b[0m                                 Traceback (most recent call last)",
      "\u001b[1;32m<ipython-input-10-5b4601e5b8a3>\u001b[0m in \u001b[0;36m<module>\u001b[1;34m\u001b[0m\n\u001b[0;32m     25\u001b[0m \u001b[1;33m\u001b[0m\u001b[0m\n\u001b[0;32m     26\u001b[0m \u001b[0mMatrix1\u001b[0m\u001b[1;33m.\u001b[0m\u001b[0msum\u001b[0m\u001b[1;33m(\u001b[0m\u001b[0maxis\u001b[0m\u001b[1;33m=\u001b[0m\u001b[1;36m0\u001b[0m\u001b[1;33m)\u001b[0m\u001b[1;33m\u001b[0m\u001b[1;33m\u001b[0m\u001b[0m\n\u001b[1;32m---> 27\u001b[1;33m \u001b[0mMatrix2\u001b[0m\u001b[1;33m.\u001b[0m\u001b[0msum\u001b[0m\u001b[1;33m(\u001b[0m\u001b[0maxis\u001b[0m\u001b[1;33m=\u001b[0m\u001b[1;36m1\u001b[0m\u001b[1;33m)\u001b[0m\u001b[1;33m\u001b[0m\u001b[1;33m\u001b[0m\u001b[0m\n\u001b[0m\u001b[0;32m     28\u001b[0m \u001b[1;33m\u001b[0m\u001b[0m\n\u001b[0;32m     29\u001b[0m \u001b[0mMatrix3\u001b[0m \u001b[1;33m=\u001b[0m \u001b[0mMatrix1\u001b[0m \u001b[1;33m+\u001b[0m \u001b[0mMatrix2\u001b[0m\u001b[1;33m\u001b[0m\u001b[1;33m\u001b[0m\u001b[0m\n",
      "\u001b[1;32mD:\\Impacta\\Anaconda\\lib\\site-packages\\numpy\\core\\_methods.py\u001b[0m in \u001b[0;36m_sum\u001b[1;34m(a, axis, dtype, out, keepdims, initial, where)\u001b[0m\n\u001b[0;32m     36\u001b[0m def _sum(a, axis=None, dtype=None, out=None, keepdims=False,\n\u001b[0;32m     37\u001b[0m          initial=_NoValue, where=True):\n\u001b[1;32m---> 38\u001b[1;33m     \u001b[1;32mreturn\u001b[0m \u001b[0mumr_sum\u001b[0m\u001b[1;33m(\u001b[0m\u001b[0ma\u001b[0m\u001b[1;33m,\u001b[0m \u001b[0maxis\u001b[0m\u001b[1;33m,\u001b[0m \u001b[0mdtype\u001b[0m\u001b[1;33m,\u001b[0m \u001b[0mout\u001b[0m\u001b[1;33m,\u001b[0m \u001b[0mkeepdims\u001b[0m\u001b[1;33m,\u001b[0m \u001b[0minitial\u001b[0m\u001b[1;33m,\u001b[0m \u001b[0mwhere\u001b[0m\u001b[1;33m)\u001b[0m\u001b[1;33m\u001b[0m\u001b[1;33m\u001b[0m\u001b[0m\n\u001b[0m\u001b[0;32m     39\u001b[0m \u001b[1;33m\u001b[0m\u001b[0m\n\u001b[0;32m     40\u001b[0m def _prod(a, axis=None, dtype=None, out=None, keepdims=False,\n",
      "\u001b[1;31mAxisError\u001b[0m: axis 1 is out of bounds for array of dimension 1"
     ]
    }
   ],
   "source": [
    "import pandas as pd\n",
    "import numpy as np\n",
    "\n",
    "A = np.array([[2,3,5,4,8],[8,5,4,7,8,9,1]])\n",
    "B = np.array([[4,6,10,8,16],[4,2.5,2,3.5,4,4.5,0.5]])\n",
    "\n",
    "Martix1 = []\n",
    "Matrix1 = A\n",
    "Martix2 = []\n",
    "Matrix2 = B\n",
    "\n",
    "print(Matrix1)\n",
    "print(Matrix2)\n",
    "\n",
    "Matrix3 = Matrix1 + Matrix2\n",
    "C= A + B\n",
    "\n",
    "print(Matrix1)\n",
    "print(Matrix2)\n",
    "print(Matrix3)\n",
    "\n",
    "print(A)\n",
    "print(B)\n",
    "print(C)\n",
    "\n",
    "Matrix1.sum(axis=0)\n",
    "Matrix2.sum(axis=1)\n",
    "\n",
    "Matrix3 = Matrix1 + Matrix2\n",
    "C= A + B\n",
    "\n",
    "print(Matrix1)\n",
    "print(Matrix2)\n",
    "print(Matrix3)\n",
    "\n",
    "print(A)\n",
    "print(B)\n",
    "print(C)\n",
    "\n"
   ]
  },
  {
   "cell_type": "code",
   "execution_count": null,
   "metadata": {},
   "outputs": [],
   "source": []
  },
  {
   "cell_type": "code",
   "execution_count": null,
   "metadata": {},
   "outputs": [],
   "source": []
  }
 ],
 "metadata": {
  "kernelspec": {
   "display_name": "Python 3",
   "language": "python",
   "name": "python3"
  },
  "language_info": {
   "codemirror_mode": {
    "name": "ipython",
    "version": 3
   },
   "file_extension": ".py",
   "mimetype": "text/x-python",
   "name": "python",
   "nbconvert_exporter": "python",
   "pygments_lexer": "ipython3",
   "version": "3.8.3"
  }
 },
 "nbformat": 4,
 "nbformat_minor": 4
}
