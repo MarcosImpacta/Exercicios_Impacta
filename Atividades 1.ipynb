{
 "cells": [
  {
   "cell_type": "code",
   "execution_count": 15,
   "metadata": {},
   "outputs": [
    {
     "name": "stdout",
     "output_type": "stream",
     "text": [
      "[[2 3 5 4 8]\n",
      " [8 5 4 7 8]\n",
      " [8 5 4 7 8]\n",
      " [8 5 4 7 8]\n",
      " [8 5 4 7 8]\n",
      " [8 5 4 7 8]\n",
      " [8 5 4 7 8]]\n",
      "[[ 4.   6.  10.   8.  16. ]\n",
      " [ 4.   2.5  2.   3.5  4. ]\n",
      " [ 8.   5.   4.   7.   8. ]\n",
      " [ 8.   5.   4.   7.   8. ]\n",
      " [ 8.   5.   4.   7.   8. ]]\n",
      "[list([2, 3, 5, 4, 8, 4, 6, 10, 8, 16])\n",
      " list([8, 5, 4, 7, 8, 9, 1, 4, 2.5, 2, 3.5, 4, 4.5, 0.5])]\n",
      "[list([2, 3, 5, 4, 8, 4, 6, 10, 8, 16])\n",
      " list([8, 5, 4, 7, 8, 9, 1, 4, 2.5, 2, 3.5, 4, 4.5, 0.5])]\n",
      "[[2 3 5 4 8]\n",
      " [8 5 4 7 8]\n",
      " [8 5 4 7 8]\n",
      " [8 5 4 7 8]\n",
      " [8 5 4 7 8]\n",
      " [8 5 4 7 8]\n",
      " [8 5 4 7 8]]\n",
      "[[ 4.   6.  10.   8.  16. ]\n",
      " [ 4.   2.5  2.   3.5  4. ]\n",
      " [ 8.   5.   4.   7.   8. ]\n",
      " [ 8.   5.   4.   7.   8. ]\n",
      " [ 8.   5.   4.   7.   8. ]]\n",
      "[list([2, 3, 5, 4, 8, 4, 6, 10, 8, 16])\n",
      " list([8, 5, 4, 7, 8, 9, 1, 4, 2.5, 2, 3.5, 4, 4.5, 0.5])]\n",
      "[[2 3 5 4 8]\n",
      " [8 5 4 7 8]\n",
      " [8 5 4 7 8]\n",
      " [8 5 4 7 8]\n",
      " [8 5 4 7 8]\n",
      " [8 5 4 7 8]\n",
      " [8 5 4 7 8]]\n",
      "[[ 4.   6.  10.   8.  16. ]\n",
      " [ 4.   2.5  2.   3.5  4. ]\n",
      " [ 8.   5.   4.   7.   8. ]\n",
      " [ 8.   5.   4.   7.   8. ]\n",
      " [ 8.   5.   4.   7.   8. ]]\n",
      "[list([2, 3, 5, 4, 8, 4, 6, 10, 8, 16])\n",
      " list([8, 5, 4, 7, 8, 9, 1, 4, 2.5, 2, 3.5, 4, 4.5, 0.5])]\n"
     ]
    }
   ],
   "source": [
    "import pandas as pd\n",
    "import numpy as np\n",
    "\n",
    "A = np.array([[2,3,5,4,8],[8,5,4,7,8],[8,5,4,7,8],[8,5,4,7,8],[8,5,4,7,8],[8,5,4,7,8],[8,5,4,7,8]])\n",
    "B = np.array([[4,6,10,8,16],[4,2.5,2,3.5,4,],[8,5,4,7,8],[8,5,4,7,8],[8,5,4,7,8]])\n",
    "\n",
    "Martix1 = []\n",
    "Matrix1 = A\n",
    "Martix2 = []\n",
    "Matrix2 = B\n",
    "\n",
    "print(Matrix1)\n",
    "print(Matrix2)\n",
    "\n",
    "#Matrix3 = Matrix1 + Matrix2\n",
    "#C= A * B\n",
    "\n",
    "print(Matrix3)\n",
    "print(C)\n",
    "\n",
    "Matrix1.sum(axis=0)\n",
    "Matrix2.sum(axis=1)\n",
    "\n",
    "#Matrix3 = Matrix1 + Matrix2\n",
    "#C= A * B\n",
    "\n",
    "print(Matrix1)\n",
    "print(Matrix2)\n",
    "print(Matrix3)\n",
    "\n",
    "print(A)\n",
    "print(B)\n",
    "print(C)\n",
    "\n"
   ]
  },
  {
   "cell_type": "code",
   "execution_count": null,
   "metadata": {},
   "outputs": [],
   "source": []
  },
  {
   "cell_type": "code",
   "execution_count": null,
   "metadata": {},
   "outputs": [],
   "source": []
  }
 ],
 "metadata": {
  "kernelspec": {
   "display_name": "Python 3",
   "language": "python",
   "name": "python3"
  },
  "language_info": {
   "codemirror_mode": {
    "name": "ipython",
    "version": 3
   },
   "file_extension": ".py",
   "mimetype": "text/x-python",
   "name": "python",
   "nbconvert_exporter": "python",
   "pygments_lexer": "ipython3",
   "version": "3.8.3"
  }
 },
 "nbformat": 4,
 "nbformat_minor": 4
}
