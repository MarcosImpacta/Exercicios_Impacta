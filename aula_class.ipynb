{
 "cells": [
  {
   "cell_type": "markdown",
   "metadata": {},
   "source": [
    "<b>Classes (Orientação Objeto)</br>\n",
    "\n",
    "Classes proporcionam uma forma de organizar dados e funcionalidades juntos. Criar uma nova classe cria um novo “tipo” de objeto, permitindo que novas “instâncias” desse tipo sejam produzidas. Cada instância da classe pode ter atributos anexados a ela, para manter seu estado. Instâncias da classe também podem ter métodos (definidos pela classe) para modificar seu estado.\n",
    "\n",
    "Segundo a documentação do Python e o video Python para Zumbis, uma classe associa dados (atributos) e operações (métodos) numa só estrutura. Um objeto é uma instância de uma classe. Ou seja, uma representação da classe. Por exemplo, Regis é uma instância de uma classe chamada Pessoa, mas a Pessoa é a classe que o representa de uma forma genérica. Se você criar um outro objeto chamado Fabio, esse objeto também será uma instancia da classe Pessoa."
   ]
  },
  {
   "cell_type": "markdown",
   "metadata": {},
   "source": [
    "<b>Objetos</b>\n",
    "\n",
    "Objetos têm individualidade, e vários nomes (em diferentes escopos) podem ser vinculados a um mesmo objeto. Isso é chamado de apelidamento em outras linguagens. Geralmente, esta característica não é muito apreciada, e pode ser ignorada com segurança ao lidar com tipos imutáveis (números, strings, tuplas). Entretanto, apelidamento pode ter um efeito surpreendente na semântica do código Python envolvendo objetos mutáveis como listas, dicionários e a maioria dos outros tipos. Isso pode ser usado em benefício do programa, porque os apelidos funcionam de certa forma como ponteiros. Por exemplo, passar um objeto como argumento é barato, pois só um ponteiro é passado na implementação; e se uma função modifica um objeto passado como argumento, o invocador verá a mudança — isso elimina a necessidade de ter dois mecanismos de passagem de parâmetros como em Pascal"
   ]
  },
  {
   "cell_type": "markdown",
   "metadata": {},
   "source": [
    "<b>O que é uma classe ?</b>"
   ]
  },
  {
   "cell_type": "markdown",
   "metadata": {},
   "source": [
    "A classe representa uma abstração de um determinado objeto da vida real.\n",
    "\n",
    "Exemplo:"
   ]
  },
  {
   "cell_type": "code",
   "execution_count": 1,
   "metadata": {},
   "outputs": [
    {
     "name": "stdout",
     "output_type": "stream",
     "text": [
      "uma classe\n"
     ]
    }
   ],
   "source": [
    "class Pessoa:\n",
    "    def __init__(self):\n",
    "        print(\"uma classe\")\n",
    "p = Pessoa()"
   ]
  },
  {
   "cell_type": "markdown",
   "metadata": {},
   "source": [
    "Vamos agora dissecar, tudo para criar uma classe:\n",
    "\n",
    "Quando temos que criar uma classe, ela sempre começa com a palavra reservada <font size= 4, color = 'green'>class</font>\n",
    "\n",
    "<b>Exemplo:</b>\n",
    "\n",
    "<font size= 4, color = 'green'>class</font> Pessoa:\n"
   ]
  },
  {
   "cell_type": "markdown",
   "metadata": {},
   "source": [
    "<b><font size= 4, color = 'red'>Importante!!!</font></b> Lembrar que para funcionar toda classe precisa ter um corpo"
   ]
  },
  {
   "cell_type": "markdown",
   "metadata": {},
   "source": [
    "<b>Construturo:</b> Toda classe tem um contrutor. Um construtor é um metodo, que iniciar as informações dentro de uma classe. No python o construtor inicial é feito da seguinte forma: def __init__(self):\n",
    "\n",
    "Na classe Pessoa, temos um exemplo de construtor."
   ]
  },
  {
   "cell_type": "markdown",
   "metadata": {},
   "source": [
    "<b>Metodo:<b/> Um metodo é uma função que vai agir como uma ação que o objeto irá executar. Exemplo: def set_nome(self, nome)\n",
    "\n",
    "No exemplo, o metodo set esta setando um nome para o objeto pessoa. "
   ]
  },
  {
   "cell_type": "code",
   "execution_count": 25,
   "metadata": {},
   "outputs": [
    {
     "name": "stdout",
     "output_type": "stream",
     "text": [
      "construindo uma classe\n",
      "thiago\n",
      "31\n"
     ]
    }
   ],
   "source": [
    "#exemplo de metodo\n",
    "\n",
    "class Pessoa:\n",
    "    \n",
    "    nome = ''\n",
    "    anonasc = 0\n",
    "    refano = 0\n",
    "    \n",
    "    def __init__(self):\n",
    "        print(\"construindo uma classe\")\n",
    "        \n",
    "    def setNome(self, nome):\n",
    "        self.nome = nome\n",
    "    \n",
    "    def getNome(self):\n",
    "        return self.nome\n",
    "    \n",
    "    def setRefAno(self, refano):\n",
    "        self.refano = refano\n",
    "        \n",
    "    def getRefAno(self):\n",
    "        return self.refano            \n",
    "    \n",
    "    def setIdade(self,ano):\n",
    "        self.anonasc = ano\n",
    "        \n",
    "    def getIdade(self):\n",
    "        return self.refano - self.anonasc  \n",
    "       \n",
    "p = Pessoa()\n",
    "\n",
    "p.setNome('thiago')\n",
    "p.setRefAno(2018)\n",
    "p.setIdade(1987)\n",
    "\n",
    "print(p.getNome())\n",
    "print(p.getIdade())\n"
   ]
  },
  {
   "cell_type": "markdown",
   "metadata": {},
   "source": [
    "<b>self:</b> Frequentemente, o primeiro argumento de um método é chamado self. Isso não passa de uma convenção: o identificador self não é uma palavra reservada nem possui qualquer significado especial em Python. Mas note que, ao seguir essa convenção, seu código se torna legível por uma grande comunidade de desenvolvedores Python e é possível que alguma IDE dependa dessa convenção para analisar seu código."
   ]
  },
  {
   "cell_type": "markdown",
   "metadata": {},
   "source": [
    "Exercicio: Crie uma classe chamada"
   ]
  },
  {
   "cell_type": "code",
   "execution_count": 41,
   "metadata": {},
   "outputs": [
    {
     "name": "stdout",
     "output_type": "stream",
     "text": [
      "Este é meu carro Rosa com  4 portas e tem 4 rodas\n",
      "Nova Cor Rosa Choque\n"
     ]
    }
   ],
   "source": [
    "class Carro:\n",
    "    \n",
    "    roda = 0\n",
    "    porta = 0\n",
    "    cor = ''\n",
    "    \n",
    "    def __init__(self, porta, roda, cor):\n",
    "        self.ports = porta\n",
    "        self.roda = roda\n",
    "        self.cor = cor\n",
    "        print ('Este é meu carro', cor, 'com ', porta,'portas e tem', roda, 'rodas')\n",
    "        \n",
    "    def MudarCor(self, nova_cor):\n",
    "        self.cor = nova_cor\n",
    "        \n",
    "    def imprimeNovaCor(self):\n",
    "        print('Nova Cor', self.cor)]\n",
    "               \n",
    "        \n",
    "        \n",
    "        \n",
    "        \n",
    "        \n",
    "        \n",
    "        \n",
    "        \n",
    "        \n",
    "        \n",
    "        \n",
    "        \n",
    "        56l768ne2fv\n",
    "        \n",
    "carro = Carro(4,4,\"Rosa\")         \n",
    "carro.MudarCor(\"Rosa Choque\")\n",
    "carro.imprimeNovaCor()"
   ]
  },
  {
   "cell_type": "code",
   "execution_count": 38,
   "metadata": {},
   "outputs": [
    {
     "ename": "NameError",
     "evalue": "name 'MeuCarro' is not defined",
     "output_type": "error",
     "traceback": [
      "\u001b[1;31m---------------------------------------------------------------------------\u001b[0m",
      "\u001b[1;31mNameError\u001b[0m                                 Traceback (most recent call last)",
      "\u001b[1;32m<ipython-input-38-ad4e00578146>\u001b[0m in \u001b[0;36m<module>\u001b[1;34m\u001b[0m\n\u001b[0;32m     18\u001b[0m \u001b[1;33m\u001b[0m\u001b[0m\n\u001b[0;32m     19\u001b[0m \u001b[1;33m\u001b[0m\u001b[0m\n\u001b[1;32m---> 20\u001b[1;33m \u001b[0mMeuCarro\u001b[0m\u001b[1;33m.\u001b[0m\u001b[0msetCarro\u001b[0m \u001b[1;33m=\u001b[0m \u001b[1;33m(\u001b[0m\u001b[1;36m4\u001b[0m\u001b[1;33m,\u001b[0m\u001b[1;36m4\u001b[0m\u001b[1;33m,\u001b[0m\u001b[1;34m\"Rosa\"\u001b[0m\u001b[1;33m)\u001b[0m\u001b[1;33m\u001b[0m\u001b[1;33m\u001b[0m\u001b[0m\n\u001b[0m\u001b[0;32m     21\u001b[0m \u001b[0mMeuCarro\u001b[0m\u001b[1;33m.\u001b[0m\u001b[0msetMudarCor\u001b[0m \u001b[1;33m=\u001b[0m \u001b[1;33m(\u001b[0m\u001b[1;34m\"Rosa Choque\"\u001b[0m\u001b[1;33m)\u001b[0m\u001b[1;33m\u001b[0m\u001b[1;33m\u001b[0m\u001b[0m\n\u001b[0;32m     22\u001b[0m \u001b[0mprint\u001b[0m\u001b[1;33m(\u001b[0m\u001b[0mMeuCarro\u001b[0m\u001b[1;33m.\u001b[0m\u001b[0mgetCarro\u001b[0m\u001b[1;33m)\u001b[0m\u001b[1;33m\u001b[0m\u001b[1;33m\u001b[0m\u001b[0m\n",
      "\u001b[1;31mNameError\u001b[0m: name 'MeuCarro' is not defined"
     ]
    }
   ],
   "source": [
    "class Calculadora:\n",
    "    \n",
    "    Numero1 = 0\n",
    "    Numero2 = 0\n",
    "    Operador = 0\n",
    "    soma = 0\n",
    "    subtracao = 0\n",
    "    multiplicacao = 0\n",
    "    divisao = 0\n",
    "    \n",
    "    def __init__(self, Numero1, Numero2 ):\n",
    "        self.Numero1 = Numero1\n",
    "        self.Numero2 = Numero2\n",
    "        self.Operador = Operador\n",
    "        \n",
    "    def soma(self,Numero1,Numero2 ):\n",
    "        return Numero1 + Numero2\n",
    "        \n",
    "        \n",
    "MeuCarro.setCarro = (4,4,\"Rosa\")\n",
    "MeuCarro.setMudarCor = (\"Rosa Choque\")\n",
    "print(MeuCarro.getCarro)"
   ]
  },
  {
   "cell_type": "code",
   "execution_count": null,
   "metadata": {},
   "outputs": [],
   "source": []
  }
 ],
 "metadata": {
  "kernelspec": {
   "display_name": "Python 3",
   "language": "python",
   "name": "python3"
  },
  "language_info": {
   "codemirror_mode": {
    "name": "ipython",
    "version": 3
   },
   "file_extension": ".py",
   "mimetype": "text/x-python",
   "name": "python",
   "nbconvert_exporter": "python",
   "pygments_lexer": "ipython3",
   "version": "3.8.3"
  }
 },
 "nbformat": 4,
 "nbformat_minor": 4
}
